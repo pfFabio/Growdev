{
 "cells": [
  {
   "cell_type": "markdown",
   "metadata": {},
   "source": [
    "1. Qual foi o jogo mais vendido no mundo em 2010?"
   ]
  },
  {
   "cell_type": "code",
   "execution_count": 1,
   "metadata": {},
   "outputs": [],
   "source": [
    "import pandas as pd\n",
    "import matplotlib.pyplot as plt"
   ]
  },
  {
   "cell_type": "code",
   "execution_count": 80,
   "metadata": {},
   "outputs": [
    {
     "data": {
      "text/html": [
       "<div>\n",
       "<style scoped>\n",
       "    .dataframe tbody tr th:only-of-type {\n",
       "        vertical-align: middle;\n",
       "    }\n",
       "\n",
       "    .dataframe tbody tr th {\n",
       "        vertical-align: top;\n",
       "    }\n",
       "\n",
       "    .dataframe thead th {\n",
       "        text-align: right;\n",
       "    }\n",
       "</style>\n",
       "<table border=\"1\" class=\"dataframe\">\n",
       "  <thead>\n",
       "    <tr style=\"text-align: right;\">\n",
       "      <th></th>\n",
       "      <th>Rank</th>\n",
       "      <th>Name</th>\n",
       "      <th>Platform</th>\n",
       "      <th>Year</th>\n",
       "      <th>Genre</th>\n",
       "      <th>Publisher</th>\n",
       "      <th>NA_Sales</th>\n",
       "      <th>EU_Sales</th>\n",
       "      <th>JP_Sales</th>\n",
       "      <th>Other_Sales</th>\n",
       "      <th>Global_Sales</th>\n",
       "    </tr>\n",
       "  </thead>\n",
       "  <tbody>\n",
       "    <tr>\n",
       "      <th>0</th>\n",
       "      <td>259</td>\n",
       "      <td>Asteroids</td>\n",
       "      <td>2600</td>\n",
       "      <td>1980</td>\n",
       "      <td>Shooter</td>\n",
       "      <td>Atari</td>\n",
       "      <td>4.00</td>\n",
       "      <td>0.26</td>\n",
       "      <td>0.00</td>\n",
       "      <td>0.05</td>\n",
       "      <td>4.31</td>\n",
       "    </tr>\n",
       "    <tr>\n",
       "      <th>1</th>\n",
       "      <td>545</td>\n",
       "      <td>Missile Command</td>\n",
       "      <td>2600</td>\n",
       "      <td>1980</td>\n",
       "      <td>Shooter</td>\n",
       "      <td>Atari</td>\n",
       "      <td>2.56</td>\n",
       "      <td>0.17</td>\n",
       "      <td>0.00</td>\n",
       "      <td>0.03</td>\n",
       "      <td>2.76</td>\n",
       "    </tr>\n",
       "    <tr>\n",
       "      <th>2</th>\n",
       "      <td>1768</td>\n",
       "      <td>Kaboom!</td>\n",
       "      <td>2600</td>\n",
       "      <td>1980</td>\n",
       "      <td>Misc</td>\n",
       "      <td>Activision</td>\n",
       "      <td>1.07</td>\n",
       "      <td>0.07</td>\n",
       "      <td>0.00</td>\n",
       "      <td>0.01</td>\n",
       "      <td>1.15</td>\n",
       "    </tr>\n",
       "    <tr>\n",
       "      <th>3</th>\n",
       "      <td>1971</td>\n",
       "      <td>Defender</td>\n",
       "      <td>2600</td>\n",
       "      <td>1980</td>\n",
       "      <td>Misc</td>\n",
       "      <td>Atari</td>\n",
       "      <td>0.99</td>\n",
       "      <td>0.05</td>\n",
       "      <td>0.00</td>\n",
       "      <td>0.01</td>\n",
       "      <td>1.05</td>\n",
       "    </tr>\n",
       "    <tr>\n",
       "      <th>4</th>\n",
       "      <td>2671</td>\n",
       "      <td>Boxing</td>\n",
       "      <td>2600</td>\n",
       "      <td>1980</td>\n",
       "      <td>Fighting</td>\n",
       "      <td>Activision</td>\n",
       "      <td>0.72</td>\n",
       "      <td>0.04</td>\n",
       "      <td>0.00</td>\n",
       "      <td>0.01</td>\n",
       "      <td>0.77</td>\n",
       "    </tr>\n",
       "    <tr>\n",
       "      <th>...</th>\n",
       "      <td>...</td>\n",
       "      <td>...</td>\n",
       "      <td>...</td>\n",
       "      <td>...</td>\n",
       "      <td>...</td>\n",
       "      <td>...</td>\n",
       "      <td>...</td>\n",
       "      <td>...</td>\n",
       "      <td>...</td>\n",
       "      <td>...</td>\n",
       "      <td>...</td>\n",
       "    </tr>\n",
       "    <tr>\n",
       "      <th>16319</th>\n",
       "      <td>16565</td>\n",
       "      <td>Mighty No. 9</td>\n",
       "      <td>XOne</td>\n",
       "      <td>2016</td>\n",
       "      <td>Platform</td>\n",
       "      <td>Deep Silver</td>\n",
       "      <td>0.01</td>\n",
       "      <td>0.00</td>\n",
       "      <td>0.00</td>\n",
       "      <td>0.00</td>\n",
       "      <td>0.01</td>\n",
       "    </tr>\n",
       "    <tr>\n",
       "      <th>16320</th>\n",
       "      <td>16572</td>\n",
       "      <td>Resident Evil 4 HD</td>\n",
       "      <td>XOne</td>\n",
       "      <td>2016</td>\n",
       "      <td>Shooter</td>\n",
       "      <td>Capcom</td>\n",
       "      <td>0.01</td>\n",
       "      <td>0.00</td>\n",
       "      <td>0.00</td>\n",
       "      <td>0.00</td>\n",
       "      <td>0.01</td>\n",
       "    </tr>\n",
       "    <tr>\n",
       "      <th>16321</th>\n",
       "      <td>16573</td>\n",
       "      <td>Farming 2017 - The Simulation</td>\n",
       "      <td>PS4</td>\n",
       "      <td>2016</td>\n",
       "      <td>Simulation</td>\n",
       "      <td>UIG Entertainment</td>\n",
       "      <td>0.00</td>\n",
       "      <td>0.01</td>\n",
       "      <td>0.00</td>\n",
       "      <td>0.00</td>\n",
       "      <td>0.01</td>\n",
       "    </tr>\n",
       "    <tr>\n",
       "      <th>16322</th>\n",
       "      <td>16579</td>\n",
       "      <td>Rugby Challenge 3</td>\n",
       "      <td>XOne</td>\n",
       "      <td>2016</td>\n",
       "      <td>Sports</td>\n",
       "      <td>Alternative Software</td>\n",
       "      <td>0.00</td>\n",
       "      <td>0.01</td>\n",
       "      <td>0.00</td>\n",
       "      <td>0.00</td>\n",
       "      <td>0.01</td>\n",
       "    </tr>\n",
       "    <tr>\n",
       "      <th>16323</th>\n",
       "      <td>16592</td>\n",
       "      <td>Chou Ezaru wa Akai Hana: Koi wa Tsuki ni Shiru...</td>\n",
       "      <td>PSV</td>\n",
       "      <td>2016</td>\n",
       "      <td>Action</td>\n",
       "      <td>dramatic create</td>\n",
       "      <td>0.00</td>\n",
       "      <td>0.00</td>\n",
       "      <td>0.01</td>\n",
       "      <td>0.00</td>\n",
       "      <td>0.01</td>\n",
       "    </tr>\n",
       "  </tbody>\n",
       "</table>\n",
       "<p>16324 rows × 11 columns</p>\n",
       "</div>"
      ],
      "text/plain": [
       "        Rank                                               Name Platform  \\\n",
       "0        259                                          Asteroids     2600   \n",
       "1        545                                    Missile Command     2600   \n",
       "2       1768                                            Kaboom!     2600   \n",
       "3       1971                                           Defender     2600   \n",
       "4       2671                                             Boxing     2600   \n",
       "...      ...                                                ...      ...   \n",
       "16319  16565                                       Mighty No. 9     XOne   \n",
       "16320  16572                                 Resident Evil 4 HD     XOne   \n",
       "16321  16573                      Farming 2017 - The Simulation      PS4   \n",
       "16322  16579                                  Rugby Challenge 3     XOne   \n",
       "16323  16592  Chou Ezaru wa Akai Hana: Koi wa Tsuki ni Shiru...      PSV   \n",
       "\n",
       "       Year       Genre             Publisher  NA_Sales  EU_Sales  JP_Sales  \\\n",
       "0      1980     Shooter                 Atari      4.00      0.26      0.00   \n",
       "1      1980     Shooter                 Atari      2.56      0.17      0.00   \n",
       "2      1980        Misc            Activision      1.07      0.07      0.00   \n",
       "3      1980        Misc                 Atari      0.99      0.05      0.00   \n",
       "4      1980    Fighting            Activision      0.72      0.04      0.00   \n",
       "...     ...         ...                   ...       ...       ...       ...   \n",
       "16319  2016    Platform           Deep Silver      0.01      0.00      0.00   \n",
       "16320  2016     Shooter                Capcom      0.01      0.00      0.00   \n",
       "16321  2016  Simulation     UIG Entertainment      0.00      0.01      0.00   \n",
       "16322  2016      Sports  Alternative Software      0.00      0.01      0.00   \n",
       "16323  2016      Action       dramatic create      0.00      0.00      0.01   \n",
       "\n",
       "       Other_Sales  Global_Sales  \n",
       "0             0.05          4.31  \n",
       "1             0.03          2.76  \n",
       "2             0.01          1.15  \n",
       "3             0.01          1.05  \n",
       "4             0.01          0.77  \n",
       "...            ...           ...  \n",
       "16319         0.00          0.01  \n",
       "16320         0.00          0.01  \n",
       "16321         0.00          0.01  \n",
       "16322         0.00          0.01  \n",
       "16323         0.00          0.01  \n",
       "\n",
       "[16324 rows x 11 columns]"
      ]
     },
     "metadata": {},
     "output_type": "display_data"
    }
   ],
   "source": [
    "arquivo = pd.read_csv('vgsales.csv')\n",
    "\n",
    "display(arquivo)\n",
    "\n",
    "\n"
   ]
  },
  {
   "cell_type": "code",
   "execution_count": 81,
   "metadata": {},
   "outputs": [
    {
     "name": "stdout",
     "output_type": "stream",
     "text": [
      "o jogo mais vendido é o Wii Sports\n"
     ]
    }
   ],
   "source": [
    "jogo_mais_vendido = arquivo['Name'].loc[arquivo['Rank'] == 1].item()\n",
    "\n",
    "print('o jogo mais vendido é o', jogo_mais_vendido)"
   ]
  },
  {
   "cell_type": "markdown",
   "metadata": {},
   "source": [
    "2. Qual foi o gênero mais vendido na américa do norte em 2005"
   ]
  },
  {
   "cell_type": "code",
   "execution_count": 164,
   "metadata": {},
   "outputs": [
    {
     "name": "stdout",
     "output_type": "stream",
     "text": [
      "Genre\n",
      "Action          49.62\n",
      "Sports          36.06\n",
      "Racing          30.75\n",
      "Shooter         27.82\n",
      "Misc            26.80\n",
      "Simulation      19.27\n",
      "Platform        15.58\n",
      "Role-Playing    12.26\n",
      "Fighting        10.33\n",
      "Puzzle           6.56\n",
      "Adventure        5.10\n",
      "Strategy         2.46\n",
      "Name: NA_Sales, dtype: float64\n",
      "\n",
      "o genero mais vendido nessas condições foi Action\n"
     ]
    }
   ],
   "source": [
    "contador_genero = arquivo[arquivo['Year'] == 2005].groupby([\"Genre\"])[\"NA_Sales\"].sum().sort_values(ascending=False)\n",
    "print(contador_genero)\n",
    "print(f'\\no genero mais vendido nessas condições foi',contador_genero.index[0])"
   ]
  },
  {
   "cell_type": "markdown",
   "metadata": {},
   "source": [
    "3. Qual foi a empresa que mais vendeu de 2005 até 2016"
   ]
  },
  {
   "cell_type": "code",
   "execution_count": 162,
   "metadata": {},
   "outputs": [
    {
     "name": "stdout",
     "output_type": "stream",
     "text": [
      "a publisher com maior numero de vendas nessas condições é Nintendo\n"
     ]
    }
   ],
   "source": [
    "contador_empresa = arquivo[arquivo['Year'].between(2005,2016)].groupby([\"Publisher\"])[\"Global_Sales\"].sum().sort_values(ascending=False)\n",
    "\n",
    "print('a publisher com maior numero de vendas nessas condições é',contador_empresa.index[0])"
   ]
  },
  {
   "cell_type": "markdown",
   "metadata": {},
   "source": [
    "4. Qual o nome do jogo que menos foi vendido em 2008 do gênero Sports."
   ]
  },
  {
   "cell_type": "code",
   "execution_count": 165,
   "metadata": {},
   "outputs": [
    {
     "data": {
      "text/html": [
       "<div>\n",
       "<style scoped>\n",
       "    .dataframe tbody tr th:only-of-type {\n",
       "        vertical-align: middle;\n",
       "    }\n",
       "\n",
       "    .dataframe tbody tr th {\n",
       "        vertical-align: top;\n",
       "    }\n",
       "\n",
       "    .dataframe thead th {\n",
       "        text-align: right;\n",
       "    }\n",
       "</style>\n",
       "<table border=\"1\" class=\"dataframe\">\n",
       "  <thead>\n",
       "    <tr style=\"text-align: right;\">\n",
       "      <th></th>\n",
       "      <th>Rank</th>\n",
       "      <th>Name</th>\n",
       "      <th>Platform</th>\n",
       "      <th>Year</th>\n",
       "      <th>Genre</th>\n",
       "      <th>Publisher</th>\n",
       "      <th>NA_Sales</th>\n",
       "      <th>EU_Sales</th>\n",
       "      <th>JP_Sales</th>\n",
       "      <th>Other_Sales</th>\n",
       "      <th>Global_Sales</th>\n",
       "    </tr>\n",
       "  </thead>\n",
       "  <tbody>\n",
       "    <tr>\n",
       "      <th>9731</th>\n",
       "      <td>16494</td>\n",
       "      <td>Summer Athletics</td>\n",
       "      <td>PC</td>\n",
       "      <td>2008</td>\n",
       "      <td>Sports</td>\n",
       "      <td>DTP Entertainment</td>\n",
       "      <td>0.00</td>\n",
       "      <td>0.01</td>\n",
       "      <td>0.00</td>\n",
       "      <td>0.00</td>\n",
       "      <td>0.01</td>\n",
       "    </tr>\n",
       "    <tr>\n",
       "      <th>9691</th>\n",
       "      <td>16058</td>\n",
       "      <td>Winning Post 7 Maximum 2008</td>\n",
       "      <td>PS2</td>\n",
       "      <td>2008</td>\n",
       "      <td>Sports</td>\n",
       "      <td>Tecmo Koei</td>\n",
       "      <td>0.00</td>\n",
       "      <td>0.00</td>\n",
       "      <td>0.01</td>\n",
       "      <td>0.00</td>\n",
       "      <td>0.01</td>\n",
       "    </tr>\n",
       "    <tr>\n",
       "      <th>9692</th>\n",
       "      <td>16079</td>\n",
       "      <td>Fab 5 Soccer</td>\n",
       "      <td>DS</td>\n",
       "      <td>2008</td>\n",
       "      <td>Sports</td>\n",
       "      <td>Destineer</td>\n",
       "      <td>0.01</td>\n",
       "      <td>0.00</td>\n",
       "      <td>0.00</td>\n",
       "      <td>0.00</td>\n",
       "      <td>0.01</td>\n",
       "    </tr>\n",
       "    <tr>\n",
       "      <th>9715</th>\n",
       "      <td>16356</td>\n",
       "      <td>G1 Jockey 4 2008</td>\n",
       "      <td>PS3</td>\n",
       "      <td>2008</td>\n",
       "      <td>Sports</td>\n",
       "      <td>Tecmo Koei</td>\n",
       "      <td>0.00</td>\n",
       "      <td>0.01</td>\n",
       "      <td>0.00</td>\n",
       "      <td>0.00</td>\n",
       "      <td>0.01</td>\n",
       "    </tr>\n",
       "    <tr>\n",
       "      <th>9696</th>\n",
       "      <td>16116</td>\n",
       "      <td>Winning Post 7 Maximum 2008</td>\n",
       "      <td>PS3</td>\n",
       "      <td>2008</td>\n",
       "      <td>Sports</td>\n",
       "      <td>Tecmo Koei</td>\n",
       "      <td>0.00</td>\n",
       "      <td>0.00</td>\n",
       "      <td>0.01</td>\n",
       "      <td>0.00</td>\n",
       "      <td>0.01</td>\n",
       "    </tr>\n",
       "    <tr>\n",
       "      <th>...</th>\n",
       "      <td>...</td>\n",
       "      <td>...</td>\n",
       "      <td>...</td>\n",
       "      <td>...</td>\n",
       "      <td>...</td>\n",
       "      <td>...</td>\n",
       "      <td>...</td>\n",
       "      <td>...</td>\n",
       "      <td>...</td>\n",
       "      <td>...</td>\n",
       "      <td>...</td>\n",
       "    </tr>\n",
       "    <tr>\n",
       "      <th>8358</th>\n",
       "      <td>607</td>\n",
       "      <td>Madden NFL 09</td>\n",
       "      <td>X360</td>\n",
       "      <td>2008</td>\n",
       "      <td>Sports</td>\n",
       "      <td>Electronic Arts</td>\n",
       "      <td>2.21</td>\n",
       "      <td>0.12</td>\n",
       "      <td>0.00</td>\n",
       "      <td>0.20</td>\n",
       "      <td>2.54</td>\n",
       "    </tr>\n",
       "    <tr>\n",
       "      <th>8357</th>\n",
       "      <td>606</td>\n",
       "      <td>Deca Sports</td>\n",
       "      <td>Wii</td>\n",
       "      <td>2008</td>\n",
       "      <td>Sports</td>\n",
       "      <td>Konami Digital Entertainment</td>\n",
       "      <td>1.13</td>\n",
       "      <td>0.87</td>\n",
       "      <td>0.29</td>\n",
       "      <td>0.25</td>\n",
       "      <td>2.54</td>\n",
       "    </tr>\n",
       "    <tr>\n",
       "      <th>8356</th>\n",
       "      <td>590</td>\n",
       "      <td>FIFA Soccer 09</td>\n",
       "      <td>PS3</td>\n",
       "      <td>2008</td>\n",
       "      <td>Sports</td>\n",
       "      <td>Electronic Arts</td>\n",
       "      <td>0.48</td>\n",
       "      <td>1.63</td>\n",
       "      <td>0.04</td>\n",
       "      <td>0.43</td>\n",
       "      <td>2.59</td>\n",
       "    </tr>\n",
       "    <tr>\n",
       "      <th>8352</th>\n",
       "      <td>497</td>\n",
       "      <td>Sega Superstars Tennis</td>\n",
       "      <td>X360</td>\n",
       "      <td>2008</td>\n",
       "      <td>Sports</td>\n",
       "      <td>Sega</td>\n",
       "      <td>1.75</td>\n",
       "      <td>0.86</td>\n",
       "      <td>0.00</td>\n",
       "      <td>0.28</td>\n",
       "      <td>2.90</td>\n",
       "    </tr>\n",
       "    <tr>\n",
       "      <th>8333</th>\n",
       "      <td>190</td>\n",
       "      <td>Mario &amp; Sonic at the Olympic Games</td>\n",
       "      <td>DS</td>\n",
       "      <td>2008</td>\n",
       "      <td>Sports</td>\n",
       "      <td>Sega</td>\n",
       "      <td>1.64</td>\n",
       "      <td>2.48</td>\n",
       "      <td>0.44</td>\n",
       "      <td>0.58</td>\n",
       "      <td>5.14</td>\n",
       "    </tr>\n",
       "  </tbody>\n",
       "</table>\n",
       "<p>200 rows × 11 columns</p>\n",
       "</div>"
      ],
      "text/plain": [
       "       Rank                                Name Platform  Year   Genre  \\\n",
       "9731  16494                    Summer Athletics       PC  2008  Sports   \n",
       "9691  16058         Winning Post 7 Maximum 2008      PS2  2008  Sports   \n",
       "9692  16079                        Fab 5 Soccer       DS  2008  Sports   \n",
       "9715  16356                    G1 Jockey 4 2008      PS3  2008  Sports   \n",
       "9696  16116         Winning Post 7 Maximum 2008      PS3  2008  Sports   \n",
       "...     ...                                 ...      ...   ...     ...   \n",
       "8358    607                       Madden NFL 09     X360  2008  Sports   \n",
       "8357    606                         Deca Sports      Wii  2008  Sports   \n",
       "8356    590                      FIFA Soccer 09      PS3  2008  Sports   \n",
       "8352    497              Sega Superstars Tennis     X360  2008  Sports   \n",
       "8333    190  Mario & Sonic at the Olympic Games       DS  2008  Sports   \n",
       "\n",
       "                         Publisher  NA_Sales  EU_Sales  JP_Sales  Other_Sales  \\\n",
       "9731             DTP Entertainment      0.00      0.01      0.00         0.00   \n",
       "9691                    Tecmo Koei      0.00      0.00      0.01         0.00   \n",
       "9692                     Destineer      0.01      0.00      0.00         0.00   \n",
       "9715                    Tecmo Koei      0.00      0.01      0.00         0.00   \n",
       "9696                    Tecmo Koei      0.00      0.00      0.01         0.00   \n",
       "...                            ...       ...       ...       ...          ...   \n",
       "8358               Electronic Arts      2.21      0.12      0.00         0.20   \n",
       "8357  Konami Digital Entertainment      1.13      0.87      0.29         0.25   \n",
       "8356               Electronic Arts      0.48      1.63      0.04         0.43   \n",
       "8352                          Sega      1.75      0.86      0.00         0.28   \n",
       "8333                          Sega      1.64      2.48      0.44         0.58   \n",
       "\n",
       "      Global_Sales  \n",
       "9731          0.01  \n",
       "9691          0.01  \n",
       "9692          0.01  \n",
       "9715          0.01  \n",
       "9696          0.01  \n",
       "...            ...  \n",
       "8358          2.54  \n",
       "8357          2.54  \n",
       "8356          2.59  \n",
       "8352          2.90  \n",
       "8333          5.14  \n",
       "\n",
       "[200 rows x 11 columns]"
      ]
     },
     "metadata": {},
     "output_type": "display_data"
    },
    {
     "name": "stdout",
     "output_type": "stream",
     "text": [
      "como mostrado pela tabela vários jogos empatam\n"
     ]
    }
   ],
   "source": [
    "jogo_menor_vendas_2008 = arquivo[(arquivo[\"Genre\"] == 'Sports') & (arquivo['Year'] == 2008)].sort_values(\"Global_Sales\")\n",
    "display(jogo_menor_vendas_2008)\n",
    "\n",
    "print('como mostrado pela tabela vários jogos empatam')"
   ]
  },
  {
   "cell_type": "markdown",
   "metadata": {},
   "source": [
    "5. Mostre um gráfico com o total de vendas por ano."
   ]
  },
  {
   "cell_type": "code",
   "execution_count": 200,
   "metadata": {},
   "outputs": [
    {
     "name": "stdout",
     "output_type": "stream",
     "text": [
      "600.45\n"
     ]
    },
    {
     "data": {
      "image/png": "[encoded data removed]",
      "text/plain": [
       "<Figure size 640x480 with 1 Axes>"
      ]
     },
     "metadata": {},
     "output_type": "display_data"
    }
   ],
   "source": [
    "contador_ano = arquivo.groupby([\"Year\"])[\"Global_Sales\"].sum()\n",
    "\n",
    "x = contador_ano.index.tolist()\n",
    "y = contador_ano.tolist()\n",
    "fig, ax = plt.subplots()\n",
    "ax.plot(x,y)\n",
    "plt.grid()\n",
    "\n",
    "plt.show\n"
   ]
  },
  {
   "cell_type": "markdown",
   "metadata": {},
   "source": [
    "6.Qual foi o ano com mais lançamentos de jogos?"
   ]
  },
  {
   "cell_type": "code",
   "execution_count": 207,
   "metadata": {},
   "outputs": [
    {
     "data": {
      "text/plain": [
       "Year\n",
       "2009    1433\n",
       "2008    1428\n",
       "2010    1259\n",
       "2007    1202\n",
       "2011    1139\n",
       "2006    1008\n",
       "2005     941\n",
       "2002     828\n",
       "2003     775\n",
       "2004     763\n",
       "2012     657\n",
       "2015     614\n",
       "2014     582\n",
       "2013     546\n",
       "2001     482\n",
       "1998     379\n",
       "2000     349\n",
       "2016     344\n",
       "1999     338\n",
       "1997     289\n",
       "1996     263\n",
       "1995     219\n",
       "1994     121\n",
       "1993      60\n",
       "1981      46\n",
       "1992      43\n",
       "1991      41\n",
       "1982      36\n",
       "1986      21\n",
       "1989      17\n",
       "1983      17\n",
       "1990      16\n",
       "1987      16\n",
       "1988      15\n",
       "1985      14\n",
       "1984      14\n",
       "1980       9\n",
       "Name: Name, dtype: int64"
      ]
     },
     "metadata": {},
     "output_type": "display_data"
    },
    {
     "name": "stdout",
     "output_type": "stream",
     "text": [
      "o ano com maior numero de jogos foi 2009\n"
     ]
    }
   ],
   "source": [
    "ano_mais_jogos = arquivo.groupby([\"Year\"])[\"Name\"].count().sort_values(ascending=False)\n",
    "\n",
    "display(ano_mais_jogos)\n",
    "print(\"o ano com maior numero de jogos foi\", ano_mais_jogos.index[0])"
   ]
  },
  {
   "cell_type": "markdown",
   "metadata": {},
   "source": [
    "7.Qual a plataforma que menos lançou jogos?"
   ]
  },
  {
   "cell_type": "code",
   "execution_count": 210,
   "metadata": {},
   "outputs": [
    {
     "data": {
      "text/plain": [
       "Platform\n",
       "GG         1\n",
       "PCFX       1\n",
       "TG16       2\n",
       "3DO        3\n",
       "WS         6\n",
       "SCD        6\n",
       "NG        12\n",
       "GEN       27\n",
       "DC        52\n",
       "GB        97\n",
       "NES       98\n",
       "2600     116\n",
       "WiiU     143\n",
       "SAT      173\n",
       "XOne     213\n",
       "SNES     239\n",
       "N64      316\n",
       "PS4      335\n",
       "PSV      410\n",
       "3DS      500\n",
       "GC       542\n",
       "XB       803\n",
       "GBA      811\n",
       "PC       943\n",
       "PS      1189\n",
       "PSP     1197\n",
       "X360    1235\n",
       "Wii     1290\n",
       "PS3     1304\n",
       "PS2     2127\n",
       "DS      2133\n",
       "Name: Name, dtype: int64"
      ]
     },
     "metadata": {},
     "output_type": "display_data"
    },
    {
     "name": "stdout",
     "output_type": "stream",
     "text": [
      "\n",
      "a tabela mostra que a GG e a PCFX empatam tendo 1 jogo cada\n"
     ]
    }
   ],
   "source": [
    "plataforma_menos_jogos = arquivo.groupby([\"Platform\"])[\"Name\"].count().sort_values()\n",
    "display(plataforma_menos_jogos)\n",
    "\n",
    "\n",
    "print(f\"\\na tabela mostra que a GG e a PCFX empatam tendo 1 jogo cada\")"
   ]
  },
  {
   "cell_type": "markdown",
   "metadata": {},
   "source": [
    "8.Qual plataforma que mais gerou lucros com jogos do gênero Action desde 2009?"
   ]
  },
  {
   "cell_type": "code",
   "execution_count": 213,
   "metadata": {},
   "outputs": [
    {
     "data": {
      "text/plain": [
       "Platform\n",
       "PS3     734.78\n",
       "X360    677.81\n",
       "Wii     442.77\n",
       "PS4     278.07\n",
       "DS      251.68\n",
       "3DS     246.28\n",
       "XOne    141.06\n",
       "PC      137.29\n",
       "PSP     102.34\n",
       "WiiU     81.86\n",
       "PSV      61.61\n",
       "PS2      32.84\n",
       "Name: Global_Sales, dtype: float64"
      ]
     },
     "metadata": {},
     "output_type": "display_data"
    },
    {
     "name": "stdout",
     "output_type": "stream",
     "text": [
      "a plataforma que gerou mais lucro desde 2009 foi PS3\n"
     ]
    }
   ],
   "source": [
    "plataforma_lucros = arquivo[arquivo['Year'] >= 2009].groupby(\"Platform\")[\"Global_Sales\"].sum().sort_values(ascending=False)\n",
    "\n",
    "display(plataforma_lucros)\n",
    "print(\"a plataforma que gerou mais lucro desde 2009 foi\", plataforma_lucros.index[0])"
   ]
  },
  {
   "cell_type": "markdown",
   "metadata": {},
   "source": [
    "9.Qual empresa teve o maior lucro (sob o teto de 0.35 milhões) de 1980 até 1995, excluindo-se a plataforma SNES.    "
   ]
  },
  {
   "cell_type": "code",
   "execution_count": 274,
   "metadata": {},
   "outputs": [
    {
     "name": "stdout",
     "output_type": "stream",
     "text": [
      "a empresa que mais lucrou sob as condições foi  ITT Family Games\n",
      "                    Publisher  Global_Sales\n",
      "31           ITT Family Games          0.34\n",
      "72             Starpath Corp.          0.33\n",
      "66           Seta Corporation          0.33\n",
      "81           Tomy Corporation          0.33\n",
      "9                         BPS          0.32\n",
      "12            CBS Electronics          0.31\n",
      "35                  Interplay          0.30\n",
      "16           Core Design Ltd.          0.29\n",
      "85                    Unknown          0.29\n",
      "64               SNK Playmore          0.28\n",
      "75                      Taito          0.27\n",
      "23             GT Interactive          0.27\n",
      "5                     ArtDink          0.25\n",
      "47                  Mindscape          0.24\n",
      "77                 Tecmo Koei          0.24\n",
      "11                       Bomb          0.22\n",
      "80    Time Warner Interactive          0.19\n",
      "82                  U.S. Gold          0.18\n",
      "57           Panther Software          0.17\n",
      "8          Avalon Interactive          0.17\n",
      "24                  Game Arts          0.14\n",
      "74                        THQ          0.14\n",
      "50                        NEC          0.14\n",
      "36                        JVC          0.12\n",
      "70                     Square          0.11\n",
      "67                 Shogakukan          0.11\n",
      "30        Human Entertainment          0.11\n",
      "45                Micro Cabin          0.10\n",
      "73                    Sunsoft          0.10\n",
      "86         Victor Interactive          0.09\n",
      "46                 Microprose          0.09\n",
      "21              From Software          0.08\n",
      "25                      Glams          0.08\n",
      "78                    Telstar          0.06\n",
      "90                    Yumedia          0.06\n",
      "26             HAL Laboratory          0.06\n",
      "43                 MediaQuest          0.05\n",
      "28                       Hect          0.04\n",
      "62              Riverhillsoft          0.04\n",
      "68                     Sonnet          0.04\n",
      "91                id Software          0.03\n",
      "38   Kokopeli Digital Studios          0.03\n",
      "22                       Fuji          0.03\n",
      "10                  Banpresto          0.03\n",
      "76  Technos Japan Corporation          0.02\n",
      "32                 Imageworks          0.02\n",
      "88              Vivendi Games          0.02\n",
      "48                      Mycom          0.02\n",
      "53        New World Computing          0.01\n"
     ]
    }
   ],
   "source": [
    "empresa_lucro_09 = arquivo[(arquivo['Year'].between(1908,1995)) & (arquivo[\"Platform\"] != 'SNES')].groupby([\"Publisher\"], as_index=False)[\"Global_Sales\"].sum()\n",
    "empresa_lucro_09 = empresa_lucro_09[empresa_lucro_09['Global_Sales'] < 0.35].sort_values(\"Global_Sales\", ascending=False)\n",
    "print('a empresa que mais lucrou sob as condições foi ', empresa_lucro_09[\"Publisher\"].iloc[0])\n",
    "print(empresa_lucro_09)"
   ]
  },
  {
   "cell_type": "markdown",
   "metadata": {},
   "source": [
    "10.A empresa que mais lucrou no Japão em 2003 é a mesma que mais lucrou na europa nesse mesmo ano?"
   ]
  },
  {
   "cell_type": "code",
   "execution_count": 282,
   "metadata": {},
   "outputs": [
    {
     "data": {
      "text/html": [
       "<div>\n",
       "<style scoped>\n",
       "    .dataframe tbody tr th:only-of-type {\n",
       "        vertical-align: middle;\n",
       "    }\n",
       "\n",
       "    .dataframe tbody tr th {\n",
       "        vertical-align: top;\n",
       "    }\n",
       "\n",
       "    .dataframe thead th {\n",
       "        text-align: right;\n",
       "    }\n",
       "</style>\n",
       "<table border=\"1\" class=\"dataframe\">\n",
       "  <thead>\n",
       "    <tr style=\"text-align: right;\">\n",
       "      <th></th>\n",
       "      <th>Publisher</th>\n",
       "      <th>EU_Sales</th>\n",
       "      <th>JP_Sales</th>\n",
       "    </tr>\n",
       "  </thead>\n",
       "  <tbody>\n",
       "    <tr>\n",
       "      <th>21</th>\n",
       "      <td>Electronic Arts</td>\n",
       "      <td>21.11</td>\n",
       "      <td>2.38</td>\n",
       "    </tr>\n",
       "    <tr>\n",
       "      <th>60</th>\n",
       "      <td>Sony Computer Entertainment</td>\n",
       "      <td>8.68</td>\n",
       "      <td>1.53</td>\n",
       "    </tr>\n",
       "    <tr>\n",
       "      <th>65</th>\n",
       "      <td>THQ</td>\n",
       "      <td>8.63</td>\n",
       "      <td>0.13</td>\n",
       "    </tr>\n",
       "    <tr>\n",
       "      <th>55</th>\n",
       "      <td>Nintendo</td>\n",
       "      <td>7.08</td>\n",
       "      <td>9.85</td>\n",
       "    </tr>\n",
       "    <tr>\n",
       "      <th>3</th>\n",
       "      <td>Activision</td>\n",
       "      <td>6.40</td>\n",
       "      <td>0.28</td>\n",
       "    </tr>\n",
       "    <tr>\n",
       "      <th>...</th>\n",
       "      <td>...</td>\n",
       "      <td>...</td>\n",
       "      <td>...</td>\n",
       "    </tr>\n",
       "    <tr>\n",
       "      <th>67</th>\n",
       "      <td>Takara</td>\n",
       "      <td>0.00</td>\n",
       "      <td>0.04</td>\n",
       "    </tr>\n",
       "    <tr>\n",
       "      <th>23</th>\n",
       "      <td>Encore</td>\n",
       "      <td>0.00</td>\n",
       "      <td>0.00</td>\n",
       "    </tr>\n",
       "    <tr>\n",
       "      <th>66</th>\n",
       "      <td>Taito</td>\n",
       "      <td>0.00</td>\n",
       "      <td>0.00</td>\n",
       "    </tr>\n",
       "    <tr>\n",
       "      <th>71</th>\n",
       "      <td>Titus</td>\n",
       "      <td>0.00</td>\n",
       "      <td>0.00</td>\n",
       "    </tr>\n",
       "    <tr>\n",
       "      <th>77</th>\n",
       "      <td>Wanadoo</td>\n",
       "      <td>0.00</td>\n",
       "      <td>0.00</td>\n",
       "    </tr>\n",
       "  </tbody>\n",
       "</table>\n",
       "<p>81 rows × 3 columns</p>\n",
       "</div>"
      ],
      "text/plain": [
       "                      Publisher  EU_Sales  JP_Sales\n",
       "21              Electronic Arts     21.11      2.38\n",
       "60  Sony Computer Entertainment      8.68      1.53\n",
       "65                          THQ      8.63      0.13\n",
       "55                     Nintendo      7.08      9.85\n",
       "3                    Activision      6.40      0.28\n",
       "..                          ...       ...       ...\n",
       "67                       Takara      0.00      0.04\n",
       "23                       Encore      0.00      0.00\n",
       "66                        Taito      0.00      0.00\n",
       "71                        Titus      0.00      0.00\n",
       "77                      Wanadoo      0.00      0.00\n",
       "\n",
       "[81 rows x 3 columns]"
      ]
     },
     "metadata": {},
     "output_type": "display_data"
    },
    {
     "name": "stdout",
     "output_type": "stream",
     "text": [
      "Conforme a tabela podemos notar que a EA é a lider em ambos os mercados\n"
     ]
    }
   ],
   "source": [
    "empresas_2003 = arquivo[arquivo[\"Year\"] == 2003].groupby(\"Publisher\", as_index=False)[[\"EU_Sales\",\"JP_Sales\"]].sum([\"EU_Sales\", \"JP_Sales\"]).sort_values([\"EU_Sales\",\"JP_Sales\"], ascending=False)\n",
    "display(empresas_2003)\n",
    "print(\"Conforme a tabela podemos notar que a EA é a lider em ambos os mercados\")"
   ]
  },
  {
   "cell_type": "markdown",
   "metadata": {},
   "source": [
    "11.Qual o percentual relacionado às vendas globais de jogos de Wii (excluindo-se América do norte, japão e europa) de 2006 até 2010?"
   ]
  },
  {
   "cell_type": "code",
   "execution_count": 307,
   "metadata": {},
   "outputs": [
    {
     "data": {
      "text/html": [
       "<div>\n",
       "<style scoped>\n",
       "    .dataframe tbody tr th:only-of-type {\n",
       "        vertical-align: middle;\n",
       "    }\n",
       "\n",
       "    .dataframe tbody tr th {\n",
       "        vertical-align: top;\n",
       "    }\n",
       "\n",
       "    .dataframe thead th {\n",
       "        text-align: right;\n",
       "    }\n",
       "</style>\n",
       "<table border=\"1\" class=\"dataframe\">\n",
       "  <thead>\n",
       "    <tr style=\"text-align: right;\">\n",
       "      <th></th>\n",
       "      <th>Rank</th>\n",
       "      <th>Year</th>\n",
       "      <th>NA_Sales</th>\n",
       "      <th>EU_Sales</th>\n",
       "      <th>JP_Sales</th>\n",
       "      <th>Other_Sales</th>\n",
       "      <th>Global_Sales</th>\n",
       "    </tr>\n",
       "    <tr>\n",
       "      <th>Platform</th>\n",
       "      <th></th>\n",
       "      <th></th>\n",
       "      <th></th>\n",
       "      <th></th>\n",
       "      <th></th>\n",
       "      <th></th>\n",
       "      <th></th>\n",
       "    </tr>\n",
       "  </thead>\n",
       "  <tbody>\n",
       "    <tr>\n",
       "      <th>Wii</th>\n",
       "      <td>8346560</td>\n",
       "      <td>2193294</td>\n",
       "      <td>445.89</td>\n",
       "      <td>232.71</td>\n",
       "      <td>59.31</td>\n",
       "      <td>70.82</td>\n",
       "      <td>809.28</td>\n",
       "    </tr>\n",
       "  </tbody>\n",
       "</table>\n",
       "</div>"
      ],
      "text/plain": [
       "             Rank     Year  NA_Sales  EU_Sales  JP_Sales  Other_Sales  \\\n",
       "Platform                                                                \n",
       "Wii       8346560  2193294    445.89    232.71     59.31        70.82   \n",
       "\n",
       "          Global_Sales  \n",
       "Platform                \n",
       "Wii             809.28  "
      ]
     },
     "metadata": {},
     "output_type": "display_data"
    },
    {
     "name": "stdout",
     "output_type": "stream",
     "text": [
      "8.82%\n"
     ]
    }
   ],
   "source": [
    "wii_mundo = arquivo[(arquivo[\"Platform\"] == 'Wii') & (arquivo[\"Year\"].between(2006,2010))].groupby(\"Platform\").sum([\"NA_Sales\"])\n",
    "percentual = wii_mundo[\"Global_Sales\"] - (wii_mundo[\"NA_Sales\"]+ wii_mundo[\"EU_Sales\"] + wii_mundo[\"JP_Sales\"])\n",
    "display(wii_mundo)\n",
    "print(f'{percentual.item() / wii_mundo[\"Global_Sales\"].item() * 100:.2f}%')"
   ]
  },
  {
   "cell_type": "markdown",
   "metadata": {},
   "source": [
    "12.Mostre um gráfico de linhas com as vendas em diferentes plataformas ao longo dos anos."
   ]
  },
  {
   "cell_type": "code",
   "execution_count": 364,
   "metadata": {},
   "outputs": [
    {
     "data": {
      "image/png": "[encoded data removed]",
      "text/plain": [
       "<Figure size 640x480 with 1 Axes>"
      ]
     },
     "metadata": {},
     "output_type": "display_data"
    }
   ],
   "source": [
    "plataformas = arquivo.groupby(['Platform',\"Year\"],as_index=False).sum(\"Global_Sales\")\n",
    "\n",
    "plataformas_list = plataformas[\"Platform\"].drop_duplicates()\n",
    "\n",
    "for plata in plataformas_list:\n",
    "    temporario = plataformas[plataformas[\"Platform\"] == plata]\n",
    "    x = temporario['Year'].to_list()\n",
    "    y = temporario['Global_Sales'].to_list()\n",
    "    plt.plot(x,y, label = plata)\n",
    "\n",
    "plt.legend(loc='lower left', bbox_to_anchor=(-0.1, 1.), fontsize=8)\n",
    "plt.grid()\n",
    "plt.show()\n",
    "\n",
    "\n",
    "\n"
   ]
  },
  {
   "cell_type": "markdown",
   "metadata": {},
   "source": [
    "13.Mostre um gráfico de pizza com o percentual de vendas dos diferentes gêneros de jogos."
   ]
  },
  {
   "cell_type": "code",
   "execution_count": 360,
   "metadata": {},
   "outputs": [
    {
     "data": {
      "text/html": [
       "<div>\n",
       "<style scoped>\n",
       "    .dataframe tbody tr th:only-of-type {\n",
       "        vertical-align: middle;\n",
       "    }\n",
       "\n",
       "    .dataframe tbody tr th {\n",
       "        vertical-align: top;\n",
       "    }\n",
       "\n",
       "    .dataframe thead th {\n",
       "        text-align: right;\n",
       "    }\n",
       "</style>\n",
       "<table border=\"1\" class=\"dataframe\">\n",
       "  <thead>\n",
       "    <tr style=\"text-align: right;\">\n",
       "      <th></th>\n",
       "      <th>Genre</th>\n",
       "      <th>Rank</th>\n",
       "      <th>Year</th>\n",
       "      <th>NA_Sales</th>\n",
       "      <th>EU_Sales</th>\n",
       "      <th>JP_Sales</th>\n",
       "      <th>Other_Sales</th>\n",
       "      <th>Global_Sales</th>\n",
       "    </tr>\n",
       "  </thead>\n",
       "  <tbody>\n",
       "    <tr>\n",
       "      <th>0</th>\n",
       "      <td>Action</td>\n",
       "      <td>25970035</td>\n",
       "      <td>6529714</td>\n",
       "      <td>861.80</td>\n",
       "      <td>516.48</td>\n",
       "      <td>158.65</td>\n",
       "      <td>184.92</td>\n",
       "      <td>1722.87</td>\n",
       "    </tr>\n",
       "    <tr>\n",
       "      <th>1</th>\n",
       "      <td>Adventure</td>\n",
       "      <td>14728064</td>\n",
       "      <td>2562375</td>\n",
       "      <td>102.06</td>\n",
       "      <td>63.79</td>\n",
       "      <td>52.01</td>\n",
       "      <td>16.70</td>\n",
       "      <td>234.80</td>\n",
       "    </tr>\n",
       "    <tr>\n",
       "      <th>2</th>\n",
       "      <td>Fighting</td>\n",
       "      <td>6371780</td>\n",
       "      <td>1675871</td>\n",
       "      <td>220.74</td>\n",
       "      <td>100.00</td>\n",
       "      <td>87.15</td>\n",
       "      <td>36.19</td>\n",
       "      <td>444.05</td>\n",
       "    </tr>\n",
       "    <tr>\n",
       "      <th>3</th>\n",
       "      <td>Misc</td>\n",
       "      <td>14620142</td>\n",
       "      <td>3432412</td>\n",
       "      <td>402.48</td>\n",
       "      <td>213.82</td>\n",
       "      <td>106.67</td>\n",
       "      <td>74.02</td>\n",
       "      <td>797.62</td>\n",
       "    </tr>\n",
       "    <tr>\n",
       "      <th>4</th>\n",
       "      <td>Platform</td>\n",
       "      <td>6034998</td>\n",
       "      <td>1755347</td>\n",
       "      <td>445.99</td>\n",
       "      <td>200.67</td>\n",
       "      <td>130.65</td>\n",
       "      <td>51.51</td>\n",
       "      <td>829.15</td>\n",
       "    </tr>\n",
       "    <tr>\n",
       "      <th>5</th>\n",
       "      <td>Puzzle</td>\n",
       "      <td>5513282</td>\n",
       "      <td>1144994</td>\n",
       "      <td>122.01</td>\n",
       "      <td>50.53</td>\n",
       "      <td>56.68</td>\n",
       "      <td>12.47</td>\n",
       "      <td>242.22</td>\n",
       "    </tr>\n",
       "    <tr>\n",
       "      <th>6</th>\n",
       "      <td>Racing</td>\n",
       "      <td>9715874</td>\n",
       "      <td>2457934</td>\n",
       "      <td>356.93</td>\n",
       "      <td>236.32</td>\n",
       "      <td>56.61</td>\n",
       "      <td>76.68</td>\n",
       "      <td>726.77</td>\n",
       "    </tr>\n",
       "    <tr>\n",
       "      <th>7</th>\n",
       "      <td>Role-Playing</td>\n",
       "      <td>11826171</td>\n",
       "      <td>2948352</td>\n",
       "      <td>326.50</td>\n",
       "      <td>187.58</td>\n",
       "      <td>350.25</td>\n",
       "      <td>59.38</td>\n",
       "      <td>923.80</td>\n",
       "    </tr>\n",
       "    <tr>\n",
       "      <th>8</th>\n",
       "      <td>Shooter</td>\n",
       "      <td>9399409</td>\n",
       "      <td>2571588</td>\n",
       "      <td>575.16</td>\n",
       "      <td>310.45</td>\n",
       "      <td>38.18</td>\n",
       "      <td>101.90</td>\n",
       "      <td>1026.20</td>\n",
       "    </tr>\n",
       "    <tr>\n",
       "      <th>9</th>\n",
       "      <td>Simulation</td>\n",
       "      <td>7308925</td>\n",
       "      <td>1707578</td>\n",
       "      <td>181.78</td>\n",
       "      <td>113.20</td>\n",
       "      <td>63.54</td>\n",
       "      <td>31.36</td>\n",
       "      <td>390.16</td>\n",
       "    </tr>\n",
       "    <tr>\n",
       "      <th>10</th>\n",
       "      <td>Sports</td>\n",
       "      <td>17105195</td>\n",
       "      <td>4620621</td>\n",
       "      <td>670.09</td>\n",
       "      <td>371.34</td>\n",
       "      <td>134.76</td>\n",
       "      <td>132.65</td>\n",
       "      <td>1309.24</td>\n",
       "    </tr>\n",
       "    <tr>\n",
       "      <th>11</th>\n",
       "      <td>Strategy</td>\n",
       "      <td>6756706</td>\n",
       "      <td>1345757</td>\n",
       "      <td>67.89</td>\n",
       "      <td>44.94</td>\n",
       "      <td>49.10</td>\n",
       "      <td>11.23</td>\n",
       "      <td>173.43</td>\n",
       "    </tr>\n",
       "  </tbody>\n",
       "</table>\n",
       "</div>"
      ],
      "text/plain": [
       "           Genre      Rank     Year  NA_Sales  EU_Sales  JP_Sales  \\\n",
       "0         Action  25970035  6529714    861.80    516.48    158.65   \n",
       "1      Adventure  14728064  2562375    102.06     63.79     52.01   \n",
       "2       Fighting   6371780  1675871    220.74    100.00     87.15   \n",
       "3           Misc  14620142  3432412    402.48    213.82    106.67   \n",
       "4       Platform   6034998  1755347    445.99    200.67    130.65   \n",
       "5         Puzzle   5513282  1144994    122.01     50.53     56.68   \n",
       "6         Racing   9715874  2457934    356.93    236.32     56.61   \n",
       "7   Role-Playing  11826171  2948352    326.50    187.58    350.25   \n",
       "8        Shooter   9399409  2571588    575.16    310.45     38.18   \n",
       "9     Simulation   7308925  1707578    181.78    113.20     63.54   \n",
       "10        Sports  17105195  4620621    670.09    371.34    134.76   \n",
       "11      Strategy   6756706  1345757     67.89     44.94     49.10   \n",
       "\n",
       "    Other_Sales  Global_Sales  \n",
       "0        184.92       1722.87  \n",
       "1         16.70        234.80  \n",
       "2         36.19        444.05  \n",
       "3         74.02        797.62  \n",
       "4         51.51        829.15  \n",
       "5         12.47        242.22  \n",
       "6         76.68        726.77  \n",
       "7         59.38        923.80  \n",
       "8        101.90       1026.20  \n",
       "9         31.36        390.16  \n",
       "10       132.65       1309.24  \n",
       "11        11.23        173.43  "
      ]
     },
     "metadata": {},
     "output_type": "display_data"
    },
    {
     "data": {
      "image/png": "[encoded data removed]",
      "text/plain": [
       "<Figure size 640x480 with 1 Axes>"
      ]
     },
     "metadata": {},
     "output_type": "display_data"
    }
   ],
   "source": [
    "pizza_genero = arquivo.groupby(\"Genre\", as_index=False).sum(\"Global_Sales\")\n",
    "display(pizza_genero)\n",
    "\n",
    "\n",
    "plt.pie(pizza_genero[\"Global_Sales\"].to_list(), labels = pizza_genero[\"Genre\"].to_list())\n",
    "plt.legend(loc='lower left', bbox_to_anchor=(-0.1, 1.), fontsize=8)\n",
    "plt.show()"
   ]
  },
  {
   "cell_type": "markdown",
   "metadata": {},
   "source": [
    "PARTE 2"
   ]
  },
  {
   "cell_type": "markdown",
   "metadata": {},
   "source": [
    "1) Qual a quantidade de pessoas nas seguintes faixas etárias\n",
    "a) 20 anos ou menos\n",
    "b) 21 a 35 anos\n",
    "c) 36 a 50 anos\n",
    "d) 51 a 65 anos\n",
    "e) maiores de 65 anos"
   ]
  },
  {
   "cell_type": "code",
   "execution_count": 2,
   "metadata": {},
   "outputs": [
    {
     "data": {
      "text/html": [
       "<div>\n",
       "<style scoped>\n",
       "    .dataframe tbody tr th:only-of-type {\n",
       "        vertical-align: middle;\n",
       "    }\n",
       "\n",
       "    .dataframe tbody tr th {\n",
       "        vertical-align: top;\n",
       "    }\n",
       "\n",
       "    .dataframe thead th {\n",
       "        text-align: right;\n",
       "    }\n",
       "</style>\n",
       "<table border=\"1\" class=\"dataframe\">\n",
       "  <thead>\n",
       "    <tr style=\"text-align: right;\">\n",
       "      <th></th>\n",
       "      <th>UF</th>\n",
       "      <th>Sexo</th>\n",
       "      <th>Idade</th>\n",
       "      <th>Cor</th>\n",
       "      <th>Anos de Estudo</th>\n",
       "      <th>Renda</th>\n",
       "      <th>Altura</th>\n",
       "    </tr>\n",
       "  </thead>\n",
       "  <tbody>\n",
       "    <tr>\n",
       "      <th>0</th>\n",
       "      <td>11</td>\n",
       "      <td>0</td>\n",
       "      <td>23</td>\n",
       "      <td>8</td>\n",
       "      <td>12</td>\n",
       "      <td>800</td>\n",
       "      <td>1.603808</td>\n",
       "    </tr>\n",
       "    <tr>\n",
       "      <th>1</th>\n",
       "      <td>11</td>\n",
       "      <td>1</td>\n",
       "      <td>23</td>\n",
       "      <td>2</td>\n",
       "      <td>12</td>\n",
       "      <td>1150</td>\n",
       "      <td>1.739790</td>\n",
       "    </tr>\n",
       "    <tr>\n",
       "      <th>2</th>\n",
       "      <td>11</td>\n",
       "      <td>1</td>\n",
       "      <td>35</td>\n",
       "      <td>8</td>\n",
       "      <td>15</td>\n",
       "      <td>880</td>\n",
       "      <td>1.760444</td>\n",
       "    </tr>\n",
       "    <tr>\n",
       "      <th>3</th>\n",
       "      <td>11</td>\n",
       "      <td>0</td>\n",
       "      <td>46</td>\n",
       "      <td>2</td>\n",
       "      <td>6</td>\n",
       "      <td>3500</td>\n",
       "      <td>1.783158</td>\n",
       "    </tr>\n",
       "    <tr>\n",
       "      <th>4</th>\n",
       "      <td>11</td>\n",
       "      <td>1</td>\n",
       "      <td>47</td>\n",
       "      <td>8</td>\n",
       "      <td>9</td>\n",
       "      <td>150</td>\n",
       "      <td>1.690631</td>\n",
       "    </tr>\n",
       "    <tr>\n",
       "      <th>...</th>\n",
       "      <td>...</td>\n",
       "      <td>...</td>\n",
       "      <td>...</td>\n",
       "      <td>...</td>\n",
       "      <td>...</td>\n",
       "      <td>...</td>\n",
       "      <td>...</td>\n",
       "    </tr>\n",
       "    <tr>\n",
       "      <th>76835</th>\n",
       "      <td>53</td>\n",
       "      <td>1</td>\n",
       "      <td>46</td>\n",
       "      <td>2</td>\n",
       "      <td>11</td>\n",
       "      <td>812</td>\n",
       "      <td>1.687030</td>\n",
       "    </tr>\n",
       "    <tr>\n",
       "      <th>76836</th>\n",
       "      <td>53</td>\n",
       "      <td>0</td>\n",
       "      <td>30</td>\n",
       "      <td>4</td>\n",
       "      <td>7</td>\n",
       "      <td>1500</td>\n",
       "      <td>1.792934</td>\n",
       "    </tr>\n",
       "    <tr>\n",
       "      <th>76837</th>\n",
       "      <td>53</td>\n",
       "      <td>0</td>\n",
       "      <td>32</td>\n",
       "      <td>8</td>\n",
       "      <td>12</td>\n",
       "      <td>1300</td>\n",
       "      <td>1.830587</td>\n",
       "    </tr>\n",
       "    <tr>\n",
       "      <th>76838</th>\n",
       "      <td>53</td>\n",
       "      <td>0</td>\n",
       "      <td>57</td>\n",
       "      <td>8</td>\n",
       "      <td>4</td>\n",
       "      <td>1500</td>\n",
       "      <td>1.726344</td>\n",
       "    </tr>\n",
       "    <tr>\n",
       "      <th>76839</th>\n",
       "      <td>53</td>\n",
       "      <td>0</td>\n",
       "      <td>38</td>\n",
       "      <td>8</td>\n",
       "      <td>4</td>\n",
       "      <td>900</td>\n",
       "      <td>1.658305</td>\n",
       "    </tr>\n",
       "  </tbody>\n",
       "</table>\n",
       "<p>76840 rows × 7 columns</p>\n",
       "</div>"
      ],
      "text/plain": [
       "       UF  Sexo  Idade  Cor  Anos de Estudo  Renda    Altura\n",
       "0      11     0     23    8              12    800  1.603808\n",
       "1      11     1     23    2              12   1150  1.739790\n",
       "2      11     1     35    8              15    880  1.760444\n",
       "3      11     0     46    2               6   3500  1.783158\n",
       "4      11     1     47    8               9    150  1.690631\n",
       "...    ..   ...    ...  ...             ...    ...       ...\n",
       "76835  53     1     46    2              11    812  1.687030\n",
       "76836  53     0     30    4               7   1500  1.792934\n",
       "76837  53     0     32    8              12   1300  1.830587\n",
       "76838  53     0     57    8               4   1500  1.726344\n",
       "76839  53     0     38    8               4    900  1.658305\n",
       "\n",
       "[76840 rows x 7 columns]"
      ]
     },
     "metadata": {},
     "output_type": "display_data"
    }
   ],
   "source": [
    "arquivo2 = pd.read_csv('dados.csv')\n",
    "\n",
    "display(arquivo2)"
   ]
  },
  {
   "cell_type": "code",
   "execution_count": 10,
   "metadata": {},
   "outputs": [
    {
     "name": "stdout",
     "output_type": "stream",
     "text": [
      "tem  um total de 764 pessoas com menos de 20 anos\n",
      "tem  um total de 20654 pessoas com idade entre 21 e 35 anos\n",
      "tem  um total de 31770 pessoas com idade entre 36 e 50 anos\n",
      "tem  um total de 20006 pessoas com idade entre 51 e 65 anos\n",
      "tem  um total de 3646 pessoas com mais de 65 anos\n"
     ]
    }
   ],
   "source": [
    "idade0_20 = arquivo2[arquivo2['Idade'] < 21]\n",
    "idade21_35 = arquivo2[arquivo2['Idade'].between(21,35)]\n",
    "idade36_50 = arquivo2[arquivo2['Idade'].between(36,50)]\n",
    "idade51_65 = arquivo2[arquivo2['Idade'].between(51,65)]\n",
    "idade65 = arquivo2[arquivo2['Idade'] > 65]\n",
    "\n",
    "print('tem  um total de',len(idade0_20), \"pessoas com menos de 20 anos\")\n",
    "print('tem  um total de',len(idade21_35), \"pessoas com idade entre 21 e 35 anos\")\n",
    "print('tem  um total de',len(idade36_50), \"pessoas com idade entre 36 e 50 anos\")\n",
    "print('tem  um total de',len(idade51_65), \"pessoas com idade entre 51 e 65 anos\")\n",
    "print('tem  um total de',len(idade65), \"pessoas com mais de 65 anos\")"
   ]
  },
  {
   "cell_type": "markdown",
   "metadata": {},
   "source": [
    "2.Qual é a média de escolaridade em cada faixa etária?"
   ]
  },
  {
   "cell_type": "code",
   "execution_count": 31,
   "metadata": {},
   "outputs": [
    {
     "name": "stdout",
     "output_type": "stream",
     "text": [
      "a média de anos estudados para pessoas até 20 anos é 8\n",
      "a média de anos estudados para pessoas entre 21 e 35 anos é 9\n",
      "a média de anos estudados para pessoas entre 36 e 50 anos é 8\n",
      "a média de anos estudados para pessoas entre 51 e 65 anos é 7\n",
      "a média de anos estudados para pessoas após 65 anos é 4\n"
     ]
    }
   ],
   "source": [
    "escolaridade0_20 = int(idade0_20['Anos de Estudo'].mean())\n",
    "escolaridade21_35 = int(idade21_35['Anos de Estudo'].mean())\n",
    "escolaridade36_50 = int(idade36_50['Anos de Estudo'].mean())\n",
    "escolaridade51_65 = int(idade51_65['Anos de Estudo'].mean())\n",
    "escolaridade65 = int(idade65['Anos de Estudo'].mean())\n",
    "\n",
    "print(f\"a média de anos estudados para pessoas até 20 anos é {escolaridade0_20 - 1}\")\n",
    "print(f\"a média de anos estudados para pessoas entre 21 e 35 anos é {escolaridade21_35 - 1}\")\n",
    "print(f\"a média de anos estudados para pessoas entre 36 e 50 anos é {escolaridade36_50 - 1}\")\n",
    "print(f\"a média de anos estudados para pessoas entre 51 e 65 anos é {escolaridade51_65 - 1}\")\n",
    "print(f\"a média de anos estudados para pessoas após 65 anos é {escolaridade65 - 1}\")\n"
   ]
  },
  {
   "cell_type": "markdown",
   "metadata": {},
   "source": [
    "3.Qual a UF que concentra a maior renda?"
   ]
  },
  {
   "cell_type": "code",
   "execution_count": 33,
   "metadata": {},
   "outputs": [
    {
     "name": "stdout",
     "output_type": "stream",
     "text": [
      "35  é o UF com a maior concentração de renda\n"
     ]
    }
   ],
   "source": [
    "UFs_renda = arquivo2.groupby(\"UF\").sum(\"Renda\")\n",
    "\n",
    "maior_renda = UFs_renda['Renda'].max()\n",
    "\n",
    "#display(UFs)\n",
    "print(UFs_renda.index[UFs_renda[\"Renda\"] == maior_renda].item(), \" é o UF com a maior concentração de renda\")"
   ]
  },
  {
   "cell_type": "markdown",
   "metadata": {},
   "source": [
    "4.Qual a renda média de pessoas pretas e brancas de homens e mulheres?"
   ]
  },
  {
   "cell_type": "code",
   "execution_count": 38,
   "metadata": {},
   "outputs": [
    {
     "name": "stdout",
     "output_type": "stream",
     "text": [
      "a renda média das pessoas pretas é R$1442.29\n",
      "a renda média das pessoas brancas é R$2679.02\n",
      "a renda média dos homens é R$2192.44\n",
      "a renda média das mulheres é R$1566.85\n"
     ]
    }
   ],
   "source": [
    "pretas = arquivo2[arquivo2[\"Cor\"] == 4]\n",
    "brancas = arquivo2[arquivo2[\"Cor\"] == 2]\n",
    "homens = arquivo2[arquivo2[\"Sexo\"] == 0]\n",
    "mulheres = arquivo2[arquivo2[\"Sexo\"] == 1]\n",
    "print(f\"a renda média das pessoas pretas é R${pretas['Renda'].mean():.2f}\")\n",
    "print(f\"a renda média das pessoas brancas é R${brancas['Renda'].mean():.2f}\")\n",
    "print(f'a renda média dos homens é R${homens[\"Renda\"].mean():.2f}')\n",
    "print(f'a renda média das mulheres é R${mulheres[\"Renda\"].mean():.2f}')\n"
   ]
  },
  {
   "cell_type": "markdown",
   "metadata": {},
   "source": [
    "5.Qual a renda média concentrada em cada faixa etária?"
   ]
  },
  {
   "cell_type": "code",
   "execution_count": 41,
   "metadata": {},
   "outputs": [
    {
     "name": "stdout",
     "output_type": "stream",
     "text": [
      "a renda média das pessoas com menos de 21 anos é R$985.35\n",
      "a renda média das pessoas entre 21 e 35 anos é R$1748.29\n",
      "a renda média das pessoas entre 36 e 50 anos é R$2113.76\n",
      "a renda média das pessoas entre 51 e 65 anos é R$2150.20\n",
      "a renda média das pessoas com mais de 65 anos é R$1831.23\n"
     ]
    }
   ],
   "source": [
    "renda20 = idade0_20['Renda'].mean()\n",
    "renda21_35 = idade21_35['Renda'].mean()\n",
    "renda36_50 = idade36_50['Renda'].mean()\n",
    "renda51_65 = idade51_65['Renda'].mean()\n",
    "renda65 = idade65['Renda'].mean()\n",
    "\n",
    "print(f'a renda média das pessoas com menos de 21 anos é R${renda20:.2f}')\n",
    "print(f'a renda média das pessoas entre 21 e 35 anos é R${renda21_35:.2f}')\n",
    "print(f'a renda média das pessoas entre 36 e 50 anos é R${renda36_50:.2f}')\n",
    "print(f'a renda média das pessoas entre 51 e 65 anos é R${renda51_65:.2f}')\n",
    "print(f'a renda média das pessoas com mais de 65 anos é R${renda65:.2f}')"
   ]
  },
  {
   "cell_type": "markdown",
   "metadata": {},
   "source": [
    "6.Qual a renda média nas faixas de anos de estudo abaixo?\n",
    "a.2 anos ou menos\n",
    "b.3 a 6 anos\n",
    "c.7 a 10 anos\n",
    "d.10 a 12 anos\n",
    "e.13 anos ou mais"
   ]
  },
  {
   "cell_type": "code",
   "execution_count": 44,
   "metadata": {},
   "outputs": [
    {
     "name": "stdout",
     "output_type": "stream",
     "text": [
      "a renda média de pessoas com 2 anos ou menosde estudo é R$747.10\n",
      "a renda média de pessoas entre 3 e 6 anos de estudo é R$1149.43\n",
      "a renda média de pessoas entre 7 e 10 anos de estudo é R$1403.50\n",
      "a renda média de pessoas entre 10 e 12 anos de estudo é R$1837.62\n",
      "a renda média de pessoas com mais de 13 anos de estudo é R$4937.73\n"
     ]
    }
   ],
   "source": [
    "escolaridade2 = arquivo2[arquivo2['Anos de Estudo'] < 3]\n",
    "escolaridade3_6 = arquivo2[arquivo2['Anos de Estudo'].between(4,7)]\n",
    "escolaridade7_10 = arquivo2[arquivo2['Anos de Estudo'].between(8,11)]\n",
    "escolaridade10_12 = arquivo2[arquivo2['Anos de Estudo'].between(11,13)]\n",
    "escolaridade13 = arquivo2[arquivo2['Anos de Estudo'] > 14]\n",
    "\n",
    "print(f'a renda média de pessoas com 2 anos ou menosde estudo é R${escolaridade2[\"Renda\"].mean():.2f}')\n",
    "print(f'a renda média de pessoas entre 3 e 6 anos de estudo é R${escolaridade3_6[\"Renda\"].mean():.2f}')\n",
    "print(f'a renda média de pessoas entre 7 e 10 anos de estudo é R${escolaridade7_10[\"Renda\"].mean():.2f}')\n",
    "print(f'a renda média de pessoas entre 10 e 12 anos de estudo é R${escolaridade10_12[\"Renda\"].mean():.2f}')\n",
    "print(f'a renda média de pessoas com mais de 13 anos de estudo é R${escolaridade13[\"Renda\"].mean():.2f}')\n",
    "\n",
    "\n"
   ]
  },
  {
   "cell_type": "markdown",
   "metadata": {},
   "source": [
    "7.Qual a maior escolaridade entre indígenas, para homens e mulheres?"
   ]
  },
  {
   "cell_type": "code",
   "execution_count": 53,
   "metadata": {},
   "outputs": [
    {
     "name": "stdout",
     "output_type": "stream",
     "text": [
      "pelo menos um indigena homem tem 15 ou mais anos de estudo\n",
      "pelo menos uma indigena mulher tem 15 ou mais anos de estudo\n"
     ]
    }
   ],
   "source": [
    "indigena_mulher = arquivo2[(arquivo2['Sexo'] == 1) & (arquivo2['Cor'] == 0) & (arquivo2['Anos de Estudo'] != 17)]\n",
    "indigena_homem = arquivo2[(arquivo2['Sexo'] == 0) & (arquivo2[\"Cor\"] == 0) & (arquivo2['Anos de Estudo'] != 17)]\n",
    "\n",
    "if indigena_homem['Anos de Estudo'].max() == 16:\n",
    "    print(\"pelo menos um indigena homem tem 15 ou mais anos de estudo\")\n",
    "else:\n",
    "    print(f\"pelo menos um indigena tem {indigena_homem['Anos de Estudo'].max()} anos de estudo\")\n",
    "\n",
    "\n",
    "if indigena_mulher['Anos de Estudo'].max() == 16:\n",
    "    print(\"pelo menos uma indigena mulher tem 15 ou mais anos de estudo\")\n",
    "else:\n",
    "    print(f\"pelo menos uma indigena tem {indigena_mulher['Anos de Estudo'].max()} anos de estudo\")"
   ]
  },
  {
   "cell_type": "markdown",
   "metadata": {},
   "source": [
    "8.Qual a média de anos de estudo entre brancos e negros?"
   ]
  },
  {
   "cell_type": "code",
   "execution_count": 56,
   "metadata": {},
   "outputs": [
    {
     "name": "stdout",
     "output_type": "stream",
     "text": [
      " pessoas negras tem em média 8 anos de estudo\n",
      " pessoas brancas tem em média 9 anos de estudo\n"
     ]
    }
   ],
   "source": [
    "if pretas[\"Anos de Estudo\"].mean() == 16:\n",
    "    print(f' pessoas negras tem em média 15 anos de estudo ou mais')\n",
    "else:\n",
    "    print(f' pessoas negras tem em média {pretas[\"Anos de Estudo\"].mean() - 1:.0f} anos de estudo')\n",
    "\n",
    "\n",
    "if brancas[\"Anos de Estudo\"].mean() == 16:\n",
    "    print(f' pessoas brancas tem em média 15 anos de estudo ou mais')\n",
    "else:\n",
    "    print(f' pessoas brancas tem em média {brancas[\"Anos de Estudo\"].mean() - 1:.0f} anos de estudo')"
   ]
  },
  {
   "cell_type": "markdown",
   "metadata": {},
   "source": [
    "9.Qual a média de anos de estudo e de renda para mulheres brancas, e para mulheres negras?"
   ]
  },
  {
   "cell_type": "code",
   "execution_count": 60,
   "metadata": {},
   "outputs": [
    {
     "name": "stdout",
     "output_type": "stream",
     "text": [
      " as mulheres negras tem em média 9 anos de estudo e R$1134.60 de renda média.\n",
      " as mulheres brancas tem em média 8 anos de estudo e R$1603.86 de renda média.\n"
     ]
    }
   ],
   "source": [
    "mulher_negra = pretas[pretas[\"Sexo\"] == 1]\n",
    "mulher_branca = pretas[pretas[\"Sexo\"] == 0]\n",
    "\n",
    "if mulher_negra[\"Anos de Estudo\"].mean() == 16:\n",
    "    print(f' as mulheres negras tem em média 15 anos de estudo ou mais e R${mulher_negra[\"Renda\"].mean():.2f} de renda média.')\n",
    "else:\n",
    "    print(f' as mulheres negras tem em média {mulher_negra[\"Anos de Estudo\"].mean() - 1:.0f} anos de estudo e R${mulher_negra[\"Renda\"].mean():.2f} de renda média.')\n",
    "\n",
    "if mulher_branca[\"Anos de Estudo\"].mean() == 16:\n",
    "    print(f' as mulheres brancas tem em média 15 anos de estudo ou mais e R${mulher_branca[\"Renda\"].mean():.2f} de renda média.')\n",
    "else:\n",
    "    print(f' as mulheres brancas tem em média {mulher_branca[\"Anos de Estudo\"].mean() - 1:.0f} anos de estudo e R${mulher_branca[\"Renda\"].mean():.2f} de renda média.')\n",
    "\n"
   ]
  },
  {
   "cell_type": "markdown",
   "metadata": {},
   "source": [
    "10.Qual é a UF com maior média de escolaridade e qual a UF com maior média de renda?"
   ]
  },
  {
   "cell_type": "code",
   "execution_count": 8,
   "metadata": {},
   "outputs": [],
   "source": [
    "def uf_to_name(UF):\n",
    "    match UF:\n",
    "        case 11:\n",
    "            return 'Rondônia'\n",
    "        case 12:\n",
    "            return 'Acre'\n",
    "        case 13:\n",
    "            return 'Amazonas'\n",
    "        case 14:\n",
    "            return 'Roraima'\n",
    "        case 15:\n",
    "            return 'Pará'\n",
    "        case 16:\n",
    "            return \"Amapá\"\n",
    "        case 17:\n",
    "            return \"Tocantins\"\n",
    "        case 21:\n",
    "            return \"Maranhão\"\n",
    "        case 22:\n",
    "            return \"Piauí\"\n",
    "        case 23:\n",
    "            return \"Ceará\"\n",
    "        case 24:\n",
    "            return \"Rio Grande do Norte\"\n",
    "        case 25:\n",
    "            return \"Paraíba\"\n",
    "        case 26:\n",
    "            return \"Pernambuco\"\n",
    "        case 27:\n",
    "            return \"Alagoas\"\n",
    "        case 28:\n",
    "            return \"Sergipe\"\n",
    "        case 29:\n",
    "            return \"Bahia\"\n",
    "        case 31:\n",
    "            return \"Minas Gerais\"\n",
    "        case 32:\n",
    "            return \"Espírito Santos\"\n",
    "        case 33:\n",
    "            return \"Rio de Janeiro\"\n",
    "        case 35:\n",
    "            return \"São Paulo\"\n",
    "        case 41:\n",
    "            return \"Paraná\"\n",
    "        case 42:\n",
    "            return \"Santa Carina\"\n",
    "        case 43:\n",
    "            return \"Rio Grande do Sul\"\n",
    "        case 50:\n",
    "            return \"Mato Grosso do Sul\"\n",
    "        case 51:\n",
    "            return \"Mato Grosso\"\n",
    "        case 52:\n",
    "            return \"Goiás\"\n",
    "        case 53:\n",
    "            return \"Distrito Federal\""
   ]
  },
  {
   "cell_type": "code",
   "execution_count": 35,
   "metadata": {},
   "outputs": [
    {
     "name": "stdout",
     "output_type": "stream",
     "text": [
      "o estado com a maior escolaridade é Distrito Federal\n",
      "o estado com a maior renda é Distrito Federal\n"
     ]
    }
   ],
   "source": [
    "UFs = arquivo2.groupby(\"UF\")\n",
    "maior_escolaridade, uf_escolaridade = 0, 0\n",
    "maior_renda, uf_renda = 0, 0\n",
    "\n",
    "for temporario in UFs:\n",
    "    temporary = temporario[1]\n",
    "    media = temporary['Anos de Estudo'].mean()\n",
    "    if media > maior_escolaridade and media != 17:\n",
    "        maior_escolaridade = media\n",
    "        uf_escolaridade = temporary['UF'].iloc[0]\n",
    "    media = temporary['Renda'].mean()\n",
    "    if media > maior_renda and media != 17:\n",
    "        maior_renda = media\n",
    "        uf_renda = temporary['UF'].iloc[0]\n",
    "    \n",
    "\n",
    "estado_renda = uf_to_name(uf_renda)\n",
    "estado_escolaridade = uf_to_name(uf_escolaridade)\n",
    "\n",
    "\n",
    "print(f\"o estado com a maior escolaridade é {estado_escolaridade}\")\n",
    "print(f\"o estado com a maior renda é {estado_renda}\")"
   ]
  },
  {
   "cell_type": "markdown",
   "metadata": {},
   "source": [
    "11.Elabore você uma pergunta sobre a base de dados e escreva o código para responder a pergunta."
   ]
  },
  {
   "cell_type": "markdown",
   "metadata": {},
   "source": [
    "compare o a renda total de cada UF com a renda total do País"
   ]
  },
  {
   "cell_type": "code",
   "execution_count": 52,
   "metadata": {},
   "outputs": [
    {
     "name": "stdout",
     "output_type": "stream",
     "text": [
      "R$153709445\n",
      "Rondônia: 1.79%\n",
      "Acre: 0.92%\n",
      "Amazonas: 2.07%\n",
      "Roraima: 0.63%\n",
      "Pará: 4.05%\n",
      "Amapá: 0.62%\n",
      "Tocantins: 1.50%\n",
      "Maranhão: 1.19%\n",
      "Piauí: 0.85%\n",
      "Ceará: 2.74%\n",
      "Rio Grande do Norte: 0.85%\n",
      "Paraíba: 1.07%\n",
      "Pernambuco: 3.80%\n",
      "Alagoas: 0.67%\n",
      "Sergipe: 0.93%\n",
      "Bahia: 5.32%\n",
      "Minas Gerais: 10.28%\n",
      "Espírito Santos: 1.99%\n",
      "Rio de Janeiro: 9.02%\n",
      "São Paulo: 14.66%\n",
      "Paraná: 7.07%\n",
      "Santa Carina: 3.66%\n",
      "Rio Grande do Sul: 9.52%\n",
      "Mato Grosso do Sul: 2.12%\n",
      "Mato Grosso: 2.50%\n",
      "Goiás: 4.51%\n",
      "Distrito Federal: 5.67%\n"
     ]
    }
   ],
   "source": [
    "renda_ufs = {}\n",
    "renda_total = arquivo2[\"Renda\"].sum()\n",
    "print(f'R${renda_total}')\n",
    "\n",
    "for temporary in UFs:\n",
    "    estado = temporary[1]\n",
    "    renda_ufs[uf_to_name(estado['UF'].iloc[0])] = 100 * estado[\"Renda\"].sum() / renda_total   \n",
    "\n",
    "for estado in renda_ufs:\n",
    "    print(f\"{estado}: {renda_ufs[estado]:.2f}%\")"
   ]
  }
 ],
 "metadata": {
  "kernelspec": {
   "display_name": "Python 3",
   "language": "python",
   "name": "python3"
  },
  "language_info": {
   "codemirror_mode": {
    "name": "ipython",
    "version": 3
   },
   "file_extension": ".py",
   "mimetype": "text/x-python",
   "name": "python",
   "nbconvert_exporter": "python",
   "pygments_lexer": "ipython3",
   "version": "3.11.2"
  },
  "orig_nbformat": 4
 },
 "nbformat": 4,
 "nbformat_minor": 2
}
